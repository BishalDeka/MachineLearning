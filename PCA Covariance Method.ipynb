{
 "cells": [
  {
   "cell_type": "code",
   "execution_count": 1,
   "metadata": {},
   "outputs": [],
   "source": [
    "import numpy as np\n",
    "import matplotlib.pyplot as plt\n",
    "from sklearn.datasets import make_blobs"
   ]
  },
  {
   "cell_type": "code",
   "execution_count": 5,
   "metadata": {},
   "outputs": [],
   "source": [
    "X, y = make_blobs(n_samples=100,random_state=19,n_features=10)"
   ]
  },
  {
   "cell_type": "code",
   "execution_count": 13,
   "metadata": {},
   "outputs": [],
   "source": [
    "class PCA(object):\n",
    "    def __init__(self,X,k):\n",
    "        self.X=X\n",
    "        self.k=k\n",
    "    def feature_mean(self):\n",
    "        mu=np.zeros(self.X.shape[1])\n",
    "        n=self.X.shape[0]\n",
    "        for i in range(self.X.shape[1]):\n",
    "            mu[i]=sum(self.X[:,i])/n\n",
    "        return mu\n",
    "    def shift_mat(self):\n",
    "        mu=self.feature_mean()\n",
    "        return (self.X-mu)\n",
    "    def varcov_mat(self):\n",
    "        n=self.X.shape[0]\n",
    "        sig=self.shift_mat().T.dot(self.shift_mat())/(n-1)\n",
    "        return sig\n",
    "    def eig_info(self):\n",
    "        sig=self.varcov_mat()\n",
    "        evals,evecs=np.linalg.eig(sig)\n",
    "        return evecs\n",
    "    def find_pcs(self):\n",
    "        k_comps=self.eig_info()[:,0:self.k]\n",
    "        return(k_comps)\n",
    "    def projected_data(self):\n",
    "        pcs=self.find_pcs()\n",
    "        Y=self.shift_mat()\n",
    "        return(Y.dot(pcs))"
   ]
  },
  {
   "cell_type": "code",
   "execution_count": 14,
   "metadata": {},
   "outputs": [],
   "source": [
    "p=PCA(X,6)"
   ]
  },
  {
   "cell_type": "code",
   "execution_count": 16,
   "metadata": {},
   "outputs": [
    {
     "data": {
      "text/plain": [
       "(100, 10)"
      ]
     },
     "execution_count": 16,
     "metadata": {},
     "output_type": "execute_result"
    }
   ],
   "source": [
    "X.shape"
   ]
  },
  {
   "cell_type": "code",
   "execution_count": 15,
   "metadata": {},
   "outputs": [
    {
     "data": {
      "text/plain": [
       "(100, 6)"
      ]
     },
     "execution_count": 15,
     "metadata": {},
     "output_type": "execute_result"
    }
   ],
   "source": [
    "p.projected_data().shape"
   ]
  }
 ],
 "metadata": {
  "kernelspec": {
   "display_name": "Python 3",
   "language": "python",
   "name": "python3"
  },
  "language_info": {
   "codemirror_mode": {
    "name": "ipython",
    "version": 3
   },
   "file_extension": ".py",
   "mimetype": "text/x-python",
   "name": "python",
   "nbconvert_exporter": "python",
   "pygments_lexer": "ipython3",
   "version": "3.7.1"
  }
 },
 "nbformat": 4,
 "nbformat_minor": 2
}
